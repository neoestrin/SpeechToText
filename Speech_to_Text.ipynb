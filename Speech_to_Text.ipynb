{
  "nbformat": 4,
  "nbformat_minor": 0,
  "metadata": {
    "colab": {
      "name": "Speech to Text.ipynb",
      "provenance": [],
      "collapsed_sections": []
    },
    "kernelspec": {
      "name": "python3",
      "display_name": "Python 3"
    }
  },
  "cells": [
    {
      "cell_type": "markdown",
      "metadata": {
        "id": "DeD8j-xkYeUx",
        "colab_type": "text"
      },
      "source": [
        "**Installing Speech Recognition library:**"
      ]
    },
    {
      "cell_type": "code",
      "metadata": {
        "id": "QuRpyWGaooMk",
        "colab_type": "code",
        "colab": {
          "base_uri": "https://localhost:8080/",
          "height": 107
        },
        "outputId": "0822b7b7-2062-48dc-c422-d490c1aa1e01"
      },
      "source": [
        "pip install SpeechRecognition"
      ],
      "execution_count": null,
      "outputs": [
        {
          "output_type": "stream",
          "text": [
            "Collecting SpeechRecognition\n",
            "\u001b[?25l  Downloading https://files.pythonhosted.org/packages/26/e1/7f5678cd94ec1234269d23756dbdaa4c8cfaed973412f88ae8adf7893a50/SpeechRecognition-3.8.1-py2.py3-none-any.whl (32.8MB)\n",
            "\u001b[K     |████████████████████████████████| 32.8MB 122kB/s \n",
            "\u001b[?25hInstalling collected packages: SpeechRecognition\n",
            "Successfully installed SpeechRecognition-3.8.1\n"
          ],
          "name": "stdout"
        }
      ]
    },
    {
      "cell_type": "markdown",
      "metadata": {
        "id": "iunCZozwYoRt",
        "colab_type": "text"
      },
      "source": [
        "**Importing the library and initializing recognizer class (for recognizing speech):**"
      ]
    },
    {
      "cell_type": "code",
      "metadata": {
        "id": "mGKIKtjJovnA",
        "colab_type": "code",
        "colab": {}
      },
      "source": [
        "import speech_recognition as sr\n",
        "\n",
        "r = sr.Recognizer()"
      ],
      "execution_count": null,
      "outputs": []
    },
    {
      "cell_type": "markdown",
      "metadata": {
        "id": "cqdQoxHfZHVQ",
        "colab_type": "text"
      },
      "source": [
        "**Converting the Audio:**"
      ]
    },
    {
      "cell_type": "code",
      "metadata": {
        "id": "PJtGQNqzY2wQ",
        "colab_type": "code",
        "colab": {
          "base_uri": "https://localhost:8080/",
          "height": 91
        },
        "outputId": "7d83000f-7c7e-4ccb-9205-e2a86e241f29"
      },
      "source": [
        "with sr.AudioFile(\"/content/drive/My Drive/Data/Audio to Text/Voice 1.wav\") as source:\n",
        "    audio_text = r.record(source)\n",
        "\n",
        "    #recognize() method will throw an error if the API is unreachable, hence using exception handling\n",
        "    try:\n",
        "        text = r.recognize_google(audio_text)                       #Using google speech recognition\n",
        "        print(\"Converting audio transcripts into text... \\n\\n{}\".format(text))\n",
        "    \n",
        "    except:\n",
        "        print(\"Sorry could not recognize what you said\")\n",
        "\n",
        "#If using microphone to record audio:\n",
        "#with sr.Microphone() as source:\n",
        "    #audio_text = r.listen(source)\n",
        "    #(rest similar to above)"
      ],
      "execution_count": null,
      "outputs": [
        {
          "output_type": "stream",
          "text": [
            "Converting audio transcripts into text... \n",
            "\n",
            "extracting information this is where natural language processing proves useful one of the main goals of natural language processing is to understand various languages process them and extract information from them in NLP\n"
          ],
          "name": "stdout"
        }
      ]
    },
    {
      "cell_type": "markdown",
      "metadata": {
        "id": "k0xrnb5WhT2a",
        "colab_type": "text"
      },
      "source": [
        "**Let's say now you want to get all the nouns from the extracted text:**"
      ]
    },
    {
      "cell_type": "code",
      "metadata": {
        "id": "Xwq2LOtjc1Ca",
        "colab_type": "code",
        "colab": {}
      },
      "source": [
        "import nltk\n",
        "from nltk.tokenize import word_tokenize\n",
        "from nltk.tag import pos_tag"
      ],
      "execution_count": null,
      "outputs": []
    },
    {
      "cell_type": "code",
      "metadata": {
        "id": "kkAXRyLiez2W",
        "colab_type": "code",
        "colab": {}
      },
      "source": [
        "def preprocess(sent):\n",
        "    sent = nltk.word_tokenize(sent)\n",
        "    sent = nltk.pos_tag(sent)\n",
        "    return sent"
      ],
      "execution_count": null,
      "outputs": []
    },
    {
      "cell_type": "code",
      "metadata": {
        "id": "-k3Goy_5fRho",
        "colab_type": "code",
        "colab": {
          "base_uri": "https://localhost:8080/",
          "height": 143
        },
        "outputId": "d58c5b8f-6833-45ed-8126-142ff12b9950"
      },
      "source": [
        "nltk.download(\"punkt\")\n",
        "nltk.download('averaged_perceptron_tagger')"
      ],
      "execution_count": null,
      "outputs": [
        {
          "output_type": "stream",
          "text": [
            "[nltk_data] Downloading package punkt to /root/nltk_data...\n",
            "[nltk_data]   Package punkt is already up-to-date!\n",
            "[nltk_data] Downloading package averaged_perceptron_tagger to\n",
            "[nltk_data]     /root/nltk_data...\n",
            "[nltk_data]   Package averaged_perceptron_tagger is already up-to-\n",
            "[nltk_data]       date!\n"
          ],
          "name": "stdout"
        },
        {
          "output_type": "execute_result",
          "data": {
            "text/plain": [
              "True"
            ]
          },
          "metadata": {
            "tags": []
          },
          "execution_count": 18
        }
      ]
    },
    {
      "cell_type": "code",
      "metadata": {
        "id": "J9BAZ-pyfI0T",
        "colab_type": "code",
        "colab": {
          "base_uri": "https://localhost:8080/",
          "height": 125
        },
        "outputId": "dcbe321d-684b-4fbd-cd9e-9d195ab9bdee"
      },
      "source": [
        "sent = preprocess(text)\n",
        "noun = []\n",
        "\n",
        "for words, tag in sent:\n",
        "    if tag == \"NN\":\n",
        "        noun.append(words)\n",
        "\n",
        "noun"
      ],
      "execution_count": null,
      "outputs": [
        {
          "output_type": "execute_result",
          "data": {
            "text/plain": [
              "['information',\n",
              " 'language',\n",
              " 'processing',\n",
              " 'language',\n",
              " 'processing',\n",
              " 'information']"
            ]
          },
          "metadata": {
            "tags": []
          },
          "execution_count": 31
        }
      ]
    },
    {
      "cell_type": "code",
      "metadata": {
        "id": "K1RP_AY5iBH1",
        "colab_type": "code",
        "colab": {}
      },
      "source": [
        ""
      ],
      "execution_count": null,
      "outputs": []
    }
  ]
}